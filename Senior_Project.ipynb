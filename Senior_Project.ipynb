{
  "nbformat": 4,
  "nbformat_minor": 0,
  "metadata": {
    "colab": {
      "name": "Senior Project",
      "provenance": [],
      "authorship_tag": "ABX9TyM8UxfHY0yIT1IcPNlZdj6B",
      "include_colab_link": true
    },
    "kernelspec": {
      "name": "python3",
      "display_name": "Python 3"
    },
    "language_info": {
      "name": "python"
    }
  },
  "cells": [
    {
      "cell_type": "markdown",
      "metadata": {
        "id": "view-in-github",
        "colab_type": "text"
      },
      "source": [
        "<a href=\"https://colab.research.google.com/github/Leonardoup11/JSON/blob/main/Senior_Project.ipynb\" target=\"_parent\"><img src=\"https://colab.research.google.com/assets/colab-badge.svg\" alt=\"Open In Colab\"/></a>"
      ]
    },
    {
      "cell_type": "code",
      "source": [
        "!pip install tflearn"
      ],
      "metadata": {
        "colab": {
          "base_uri": "https://localhost:8080/"
        },
        "id": "MGtxy6ck9BT_",
        "outputId": "2951145d-3adc-451a-f3c4-fdeee0aeb6fe"
      },
      "execution_count": 13,
      "outputs": [
        {
          "output_type": "stream",
          "name": "stdout",
          "text": [
            "Collecting tflearn\n",
            "  Downloading tflearn-0.5.0.tar.gz (107 kB)\n",
            "\u001b[?25l\r\u001b[K     |███                             | 10 kB 19.7 MB/s eta 0:00:01\r\u001b[K     |██████                          | 20 kB 21.1 MB/s eta 0:00:01\r\u001b[K     |█████████▏                      | 30 kB 17.0 MB/s eta 0:00:01\r\u001b[K     |████████████▏                   | 40 kB 11.9 MB/s eta 0:00:01\r\u001b[K     |███████████████▎                | 51 kB 9.4 MB/s eta 0:00:01\r\u001b[K     |██████████████████▎             | 61 kB 10.8 MB/s eta 0:00:01\r\u001b[K     |█████████████████████▍          | 71 kB 11.2 MB/s eta 0:00:01\r\u001b[K     |████████████████████████▍       | 81 kB 10.3 MB/s eta 0:00:01\r\u001b[K     |███████████████████████████▌    | 92 kB 11.1 MB/s eta 0:00:01\r\u001b[K     |██████████████████████████████▌ | 102 kB 12.1 MB/s eta 0:00:01\r\u001b[K     |████████████████████████████████| 107 kB 12.1 MB/s \n",
            "\u001b[?25hRequirement already satisfied: numpy in /usr/local/lib/python3.7/dist-packages (from tflearn) (1.21.5)\n",
            "Requirement already satisfied: six in /usr/local/lib/python3.7/dist-packages (from tflearn) (1.15.0)\n",
            "Requirement already satisfied: Pillow in /usr/local/lib/python3.7/dist-packages (from tflearn) (7.1.2)\n",
            "Building wheels for collected packages: tflearn\n",
            "  Building wheel for tflearn (setup.py) ... \u001b[?25l\u001b[?25hdone\n",
            "  Created wheel for tflearn: filename=tflearn-0.5.0-py3-none-any.whl size=127299 sha256=bc4aa91de84ba8e2b11be766a90266ce1ac03e70f2561fe7c370f9e6aee24346\n",
            "  Stored in directory: /root/.cache/pip/wheels/5f/14/2e/1d8e28cc47a5a931a2fb82438c9e37ef9246cc6a3774520271\n",
            "Successfully built tflearn\n",
            "Installing collected packages: tflearn\n",
            "Successfully installed tflearn-0.5.0\n"
          ]
        }
      ]
    },
    {
      "cell_type": "code",
      "execution_count": 20,
      "metadata": {
        "colab": {
          "base_uri": "https://localhost:8080/"
        },
        "id": "eCZYGFa_8IDF",
        "outputId": "5be8913a-28b3-43f5-adbe-5c44dede752e"
      },
      "outputs": [
        {
          "output_type": "stream",
          "name": "stdout",
          "text": [
            "[nltk_data] Downloading package punkt to /root/nltk_data...\n",
            "[nltk_data]   Package punkt is already up-to-date!\n"
          ]
        }
      ],
      "source": [
        "import nltk\n",
        "from nltk.stem.lancaster import LancasterStemmer\n",
        "stemmer = LancasterStemmer()\n",
        "\n",
        "import tflearn\n",
        "import numpy\n",
        "import tensorflow\n",
        "import random\n",
        "import json\n",
        "import pandas as pd\n",
        "import pickle\n",
        "nltk.download('punkt')\n",
        "\n",
        "url = (\"https://raw.githubusercontent.com/Leonardoup11/pedrin/main/intents.json\")\n",
        "intents = pd.read_json(url)\n",
        "data = intents\n",
        "try:\n",
        "    with open(\"data.pickle\", \"rb\") as f:\n",
        "        words, labels, training, output = pickle.load(f)\n",
        "except:\n",
        "    words = []\n",
        "    labels = []\n",
        "    docs_x = []\n",
        "    docs_y = []\n",
        "\n",
        "    for intent in data[\"intents\"]:\n",
        "        for pattern in intent[\"patterns\"]:\n",
        "            wrds = nltk.word_tokenize(pattern)\n",
        "            words.extend(wrds)\n",
        "            docs_x.append(wrds)\n",
        "            docs_y.append(intent[\"tag\"])\n",
        "\n",
        "        if intent[\"tag\"] not in labels:\n",
        "            labels.append(intent[\"tag\"])\n",
        "\n",
        "    words = [stemmer.stem(w.lower()) for w in words if w != \"?\"]\n",
        "    words = sorted(list(set(words)))\n",
        "\n",
        "    labels = sorted(labels)\n",
        "\n",
        "    training = []\n",
        "    output = []\n",
        "\n",
        "    out_empty = [0 for _ in range(len(labels))]\n",
        "\n",
        "    for x, doc in enumerate(docs_x):\n",
        "        bag = []\n",
        "\n",
        "        wrds = [stemmer.stem(w.lower()) for w in doc]\n",
        "\n",
        "        for w in words:\n",
        "            if w in wrds:\n",
        "                bag.append(1)\n",
        "            else:\n",
        "                bag.append(0)\n",
        "\n",
        "        output_row = out_empty[:]\n",
        "        output_row[labels.index(docs_y[x])] = 1\n",
        "\n",
        "        training.append(bag)\n",
        "        output.append(output_row)\n",
        "\n",
        "\n",
        "    training = numpy.array(training)\n",
        "    output = numpy.array(output)\n",
        "\n",
        "    with open(\"data.pickle\", \"wb\") as f:\n",
        "        pickle.dump((words, labels, training, output), f)\n",
        "\n",
        "from tensorflow.python.framework import ops\n",
        "ops.reset_default_graph()\n",
        "\n",
        "net = tflearn.input_data(shape=[None, len(training[0])])\n",
        "net = tflearn.fully_connected(net, 8)\n",
        "net = tflearn.fully_connected(net, 8)\n",
        "net = tflearn.fully_connected(net, len(output[0]), activation=\"softmax\")\n",
        "net = tflearn.regression(net)\n",
        "\n",
        "model = tflearn.DNN(net)\n"
      ]
    },
    {
      "cell_type": "markdown",
      "source": [
        ""
      ],
      "metadata": {
        "id": "05Ble2wM-uvF"
      }
    },
    {
      "cell_type": "code",
      "source": [
        "\n",
        "\n",
        "model.fit(training, output, n_epoch=1000, batch_size=8, show_metric=True)\n",
        "model.save(\"model.tflearn\")\n",
        "\n",
        "\n"
      ],
      "metadata": {
        "colab": {
          "base_uri": "https://localhost:8080/"
        },
        "id": "D9PP5nQX-pd2",
        "outputId": "98dec573-7b48-4415-ae5b-ce811c707171"
      },
      "execution_count": 21,
      "outputs": [
        {
          "output_type": "stream",
          "name": "stdout",
          "text": [
            "Training Step: 5999  | total loss: \u001b[1m\u001b[32m0.12043\u001b[0m\u001b[0m | time: 0.033s\n",
            "| Adam | epoch: 1000 | loss: 0.12043 - acc: 0.9685 -- iter: 40/47\n",
            "Training Step: 6000  | total loss: \u001b[1m\u001b[32m0.11114\u001b[0m\u001b[0m | time: 0.040s\n",
            "| Adam | epoch: 1000 | loss: 0.11114 - acc: 0.9716 -- iter: 47/47\n",
            "--\n",
            "INFO:tensorflow:/content/model.tflearn is not in all_model_checkpoint_paths. Manually adding it.\n"
          ]
        }
      ]
    },
    {
      "cell_type": "code",
      "source": [
        "def bag_of_words(s, words):\n",
        "    bag = [0 for _ in range(len(words))]\n",
        "\n",
        "    s_words = nltk.word_tokenize(s)\n",
        "    s_words = [stemmer.stem(word.lower()) for word in s_words]\n",
        "\n",
        "    for se in s_words:\n",
        "        for i, w in enumerate(words):\n",
        "            if w == se:\n",
        "                bag[i] = 1\n",
        "            \n",
        "    return numpy.array(bag)"
      ],
      "metadata": {
        "id": "ALnfUodD-vJ5"
      },
      "execution_count": 23,
      "outputs": []
    },
    {
      "cell_type": "code",
      "source": [
        "def chat(msg):\n",
        "  #print(\"Start talking with the bot (type quit to stop)!\")\n",
        "  #while True:\n",
        "    print(msg)\n",
        "    #inp = input(\"You: \")\n",
        "    inp = msg\n",
        "    if inp.lower() == \"quit\":\n",
        "        print(\"really worlking\")\n",
        "\n",
        "    results = model.predict([bag_of_words(inp, words)])[0]\n",
        "    results_index = numpy.argmax(results)\n",
        "    tag = labels[results_index]\n",
        "\n",
        "    if results[results_index] > 0.7:\n",
        "        for tg in data[\"intents\"]:\n",
        "            if tg['tag'] == tag:\n",
        "                responses = tg['responses']\n",
        "\n",
        "        return (random.choice(responses))\n",
        "    else:\n",
        "        answer=\"I don't understand so plz ask another question\"\n",
        "        return (answer)"
      ],
      "metadata": {
        "id": "EO429Sg1AjMt"
      },
      "execution_count": 37,
      "outputs": []
    },
    {
      "cell_type": "code",
      "source": [
        "  def chat():\n",
        "    print(\"Start talking with Pedro your AI assistant (type quit to stop)!\")\n",
        "    while True:\n",
        "        inp = input(\"You: \")\n",
        "        if inp.lower() == \"quit\":\n",
        "            break\n",
        "\n",
        "        results = model.predict([bag_of_words(inp, words)])\n",
        "        results_index = numpy.argmax(results)\n",
        "        tag = labels[results_index]\n",
        "\n",
        "        for tg in data[\"intents\"]:\n",
        "            if tg['tag'] == tag:\n",
        "                responses = tg['responses']\n",
        "\n",
        "        print(random.choice(responses))\n",
        "chat()"
      ],
      "metadata": {
        "colab": {
          "base_uri": "https://localhost:8080/"
        },
        "id": "Su8LKh7m_-87",
        "outputId": "197b7e29-0a7f-47d0-f723-84970a1e43a2"
      },
      "execution_count": null,
      "outputs": [
        {
          "metadata": {
            "tags": null
          },
          "name": "stdout",
          "output_type": "stream",
          "text": [
            "Start talking with Pedro your AI assistant (type quit to stop)!\n",
            "Howdy Partner!\n",
            "It's been a rough day but so far so good, how about yourslef?\n",
            "Hi, how can I help?\n",
            "Smoothies and Cookies!\n",
            "The smoothie is $5 dollars and the cookie is $2 dolars\n",
            "We do have great promotions! specially on mondays and tuesdays, buy one cookie get one free\n",
            "We are open noon-11pm Monday-Friday! and Saturday 10am to midnight\n",
            "My purpose is to give you information about our business but I have heard that you can meet people on dating apps these days!\n",
            "Talk to you later amigo\n",
            "Goodbye amigo!\n",
            "Sad to see you go :(\n",
            "Talk to you later amigo\n",
            "My favorite color is Red!\n"
          ]
        }
      ]
    }
  ]
}